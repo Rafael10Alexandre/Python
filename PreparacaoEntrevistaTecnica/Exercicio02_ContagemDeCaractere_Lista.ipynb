{
 "cells": [
  {
   "cell_type": "markdown",
   "metadata": {},
   "source": [
    "## Exercicio02 \n",
    "Dado Uma String apresente os caracteres dele e quantas vezes cada caracter aparece na mesma."
   ]
  },
  {
   "cell_type": "code",
   "execution_count": 5,
   "metadata": {},
   "outputs": [
    {
     "name": "stdout",
     "output_type": "stream",
     "text": [
      "{'r': 1, 'a': 2, 'f': 1, 'e': 1, 'l': 1}\n",
      "\n",
      "{'d': 1, 'a': 2, 'n': 1, 'i': 1, 'e': 1, 'l': 1}\n",
      "\n",
      "{'b': 1, 'a': 3, 'n': 2}\n"
     ]
    }
   ],
   "source": [
    "def contar_caracteres(s):\n",
    "    \"\"\" Função que conta os caracteres de uma string\n",
    "    \n",
    "    Exemplo:\n",
    "    \n",
    "    >>> contar_caracteres('rafael')\n",
    "    {'a': 2, 'e': 1, 'f': 1, 'l': 1, 'r': 1}\n",
    "    \n",
    "    :param s: string a ser contada\n",
    "    :param return: retorna com o dicionario \n",
    "    \"\"\"\n",
    "\n",
    "    resultado = {}\n",
    "    \n",
    "    for caracter in s:\n",
    "        contagem = resultado.get(caracter,0)\n",
    "        contagem += 1\n",
    "        resultado[caracter] = contagem\n",
    "    return resultado\n",
    "    \n",
    "if __name__ == '__main__':\n",
    "    print(contar_caracteres('rafael'))\n",
    "    print()\n",
    "    print(contar_caracteres('daniela'))\n",
    "    print()\n",
    "    print(contar_caracteres('banana'))"
   ]
  },
  {
   "cell_type": "code",
   "execution_count": 6,
   "metadata": {},
   "outputs": [
    {
     "name": "stdout",
     "output_type": "stream",
     "text": [
      "{'r': 1, 'a': 2, 'f': 1, 'e': 1, 'l': 1}\n",
      "\n",
      "{'d': 1, 'a': 2, 'n': 1, 'i': 1, 'e': 1, 'l': 1}\n",
      "\n",
      "{'b': 1, 'a': 3, 'n': 2}\n"
     ]
    }
   ],
   "source": [
    "def contar_caracteres(s):\n",
    "    \"\"\" Função que conta os caracteres de uma string\n",
    "    \n",
    "    Exemplo:\n",
    "    \n",
    "    >>> contar_caracteres('rafael')\n",
    "    {'a': 2, 'e': 1, 'f': 1, 'l': 1, 'r': 1}\n",
    "    \n",
    "    :param s: string a ser contada\n",
    "    :param return: retorna com o dicionario \n",
    "    \"\"\"\n",
    "\n",
    "    resultado = {}\n",
    "    \n",
    "    for caracter in s:\n",
    "        resultado[caracter] = resultado.get(caracter,0) + 1\n",
    "    return resultado\n",
    "    \n",
    "if __name__ == '__main__':\n",
    "    print(contar_caracteres('rafael'))\n",
    "    print()\n",
    "    print(contar_caracteres('daniela'))\n",
    "    print()\n",
    "    print(contar_caracteres('banana'))"
   ]
  },
  {
   "cell_type": "code",
   "execution_count": null,
   "metadata": {},
   "outputs": [],
   "source": []
  }
 ],
 "metadata": {
  "kernelspec": {
   "display_name": "Python 3",
   "language": "python",
   "name": "python3"
  },
  "language_info": {
   "codemirror_mode": {
    "name": "ipython",
    "version": 3
   },
   "file_extension": ".py",
   "mimetype": "text/x-python",
   "name": "python",
   "nbconvert_exporter": "python",
   "pygments_lexer": "ipython3",
   "version": "3.8.5"
  }
 },
 "nbformat": 4,
 "nbformat_minor": 4
}

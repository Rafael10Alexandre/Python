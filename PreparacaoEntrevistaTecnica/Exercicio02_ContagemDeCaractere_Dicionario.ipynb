{
 "cells": [
  {
   "cell_type": "markdown",
   "metadata": {},
   "source": [
    "## Exercicio01 \n",
    "Dado Uma String apresente os caracteres dele e quantas vezes cada caracter aparece na mesma."
   ]
  },
  {
   "cell_type": "code",
   "execution_count": 2,
   "metadata": {},
   "outputs": [
    {
     "name": "stdout",
     "output_type": "stream",
     "text": [
      "a: 2\n",
      "e: 1\n",
      "f: 1\n",
      "l: 1\n",
      "r: 1\n",
      "\n",
      "a: 2\n",
      "d: 1\n",
      "e: 1\n",
      "i: 1\n",
      "l: 1\n",
      "n: 1\n",
      "\n",
      "a: 3\n",
      "b: 1\n",
      "n: 2\n"
     ]
    }
   ],
   "source": [
    "def contar_caracteres(s):\n",
    "    \"\"\" Função que conta os caracteres de uma string\n",
    "    \n",
    "    Exemplo:\n",
    "    \n",
    "    >>> contar_caracteres('rafael')\n",
    "    a: 2\n",
    "    e: 1\n",
    "    f: 1\n",
    "    l: 1\n",
    "    r: 1\n",
    "    \n",
    "    :param s: string a ser contada\n",
    "    \n",
    "    \"\"\"\n",
    "    caracteres_ordenados = sorted(s)\n",
    "    caracter_anterior = caracteres_ordenados[0]\n",
    "    contagem = 1\n",
    "    \n",
    "    for caracter in caracteres_ordenados[1:]:\n",
    "        if caracter == caracter_anterior:\n",
    "            contagem += 1\n",
    "        else:\n",
    "            print(f'{caracter_anterior}: {contagem}')\n",
    "            caracter_anterior = caracter\n",
    "            contagem = 1\n",
    "            \n",
    "    print(f'{caracter_anterior}: {contagem}')\n",
    "    \n",
    "if __name__ == '__main__':\n",
    "    contar_caracteres('rafael')\n",
    "    print()\n",
    "    contar_caracteres('daniela')\n",
    "    print()\n",
    "    contar_caracteres('banana')"
   ]
  },
  {
   "cell_type": "code",
   "execution_count": null,
   "metadata": {},
   "outputs": [],
   "source": []
  }
 ],
 "metadata": {
  "kernelspec": {
   "display_name": "Python 3",
   "language": "python",
   "name": "python3"
  },
  "language_info": {
   "codemirror_mode": {
    "name": "ipython",
    "version": 3
   },
   "file_extension": ".py",
   "mimetype": "text/x-python",
   "name": "python",
   "nbconvert_exporter": "python",
   "pygments_lexer": "ipython3",
   "version": "3.8.5"
  }
 },
 "nbformat": 4,
 "nbformat_minor": 4
}

{
 "cells": [
  {
   "cell_type": "markdown",
   "metadata": {},
   "source": [
    "### Questão 1) Calcule o Maximo."
   ]
  },
  {
   "cell_type": "code",
   "execution_count": 2,
   "metadata": {},
   "outputs": [
    {
     "name": "stdout",
     "output_type": "stream",
     "text": [
      "1\n",
      "100\n",
      "Estudo experimental sobre o tempo de execusão da função max\n",
      "Testanto para entrada de tamanho 2\n",
      "*\n"
     ]
    }
   ],
   "source": [
    "from math import inf\n",
    "from time import time\n",
    "\n",
    "def meu_max(iteravel):\n",
    "    numero_maximo = -inf\n",
    "    for numero in iteravel:\n",
    "        if numero > numero_maximo:\n",
    "            numero_maximo = numero\n",
    "    return numero_maximo\n",
    "\n",
    "if __name__ == '__main__' :\n",
    "    print(meu_max([1]))\n",
    "    print(meu_max([1, 100]))\n",
    "    \n",
    "    print('Estudo experimental sobre o tempo de execusão da função max')\n",
    "    \n",
    "    print('Testanto para entrada de tamanho 2')\n",
    "    inicio = time()\n",
    "    meu_max([1, 100])\n",
    "    final = time()\n",
    "    tempo_de_execusão_em_segundos = int(final - inicio)\n",
    "    print('*' * (tempo_de_execusão_em_segundos +1) )\n"
   ]
  },
  {
   "cell_type": "code",
   "execution_count": 1,
   "metadata": {},
   "outputs": [
    {
     "name": "stdout",
     "output_type": "stream",
     "text": [
      "1\n",
      "100\n",
      "Estudo experimental sobre o tempo de execusão da função max\n",
      "* 0.0\n",
      "* 0.17989611625671387\n",
      "* 0.15690922737121582\n",
      "* 0.28783607482910156\n",
      "* 0.4377481937408447\n",
      "* 0.318450927734375\n",
      "* 0.44272303581237793\n",
      "* 0.5509028434753418\n",
      "* 0.51108717918396\n",
      "* 0.6276640892028809\n",
      "* 0.6963424682617188\n",
      "* 0.8015415668487549\n",
      "* 0.6806328296661377\n",
      "* 0.8854939937591553\n",
      "* 0.9675989151000977\n",
      "** 1.071378231048584\n",
      "** 1.1208312511444092\n",
      "** 1.1813178062438965\n",
      "** 1.2765750885009766\n",
      "** 1.2830326557159424\n",
      "** 1.417567253112793\n"
     ]
    },
    {
     "data": {
      "text/plain": [
       "' \\nAnálise do Algoritimo\\nTempo de execução, Algoritimo O(n)\\nEm Memoria , Algoritimo O(1)\\n'"
      ]
     },
     "execution_count": 1,
     "metadata": {},
     "output_type": "execute_result"
    }
   ],
   "source": [
    "from math import inf\n",
    "from time import time\n",
    "\n",
    "def meu_max(iteravel):\n",
    "    numero_maximo = -inf\n",
    "    for numero in iteravel:\n",
    "        if numero > numero_maximo:\n",
    "            numero_maximo = numero\n",
    "    return numero_maximo\n",
    "\n",
    "if __name__ == '__main__' :\n",
    "    print(meu_max([1]))\n",
    "    print(meu_max([1, 100]))\n",
    "    \n",
    "    print('Estudo experimental sobre o tempo de execusão da função max')\n",
    "    valor_inicio = 1000000\n",
    "    for n in range(0, valor_inicio * 20 + 1, valor_inicio):\n",
    "        inicio = time()\n",
    "        meu_max(range(n))\n",
    "        final = time()\n",
    "        tempo_de_execusão_em_segundos = final - inicio\n",
    "        print('*' * int(tempo_de_execusão_em_segundos +1), tempo_de_execusão_em_segundos )\n",
    "\"\"\" \n",
    "Análise do Algoritimo\n",
    "Tempo de execução, Algoritimo O(n)\n",
    "Em Memoria , Algoritimo O(1)\n",
    "\"\"\""
   ]
  },
  {
   "cell_type": "markdown",
   "metadata": {},
   "source": [
    "#### Estudo Experimentais\n",
    "    - Implementar Algoritimos de max\n",
    "    - Medir o tempo para vários tamanhos\n",
    "    - modulo time do Python\n",
    "    - Análise Gráfica\n",
    "    \n",
    "#### Problemas\n",
    "    - Processos Disputando CPU\n",
    "    - Dificuldade de comparr dois algoritimos\n",
    "    - Limitação de entradas no programa\n",
    "    - Necessidade de implementar o algoritimo para analizar \n",
    "    \n",
    "#### Contagem de Operação Primitiva\n",
    "    - Analisar Operações em Alto Nível\n",
    "    - Contar operações:\n",
    "        Atribuições\n",
    "        Referencia a objetos\n",
    "        Operações Matemáticas\n",
    "        Comparações\n",
    "        Acesso a elemento de lista\n",
    "        Execução de funções\n",
    "        \n",
    "#### Tamanho da Entrada\n",
    "    - Como influencia na execução?\n",
    "    - Função f(n)\n",
    "    - Casos: Pior, Médio, Melhor\n",
    "    - Analise de Tempo e Memória \n",
    "    \n",
    "#### Funções Importante\n",
    "    - constante     ; f(x) = c\n",
    "    - logaritimicas ; f(x) = log(x)  \n",
    "    - linear        ; f(x) = x\n",
    "    - n-log(n)      ; f(x) = xlog(x)\n",
    "    - quadratico    ; f(x) = x^2\n",
    "    - cubico        ; f(x) = x^3\n",
    "    - exponencial   ; f(x) = e^x"
   ]
  },
  {
   "cell_type": "code",
   "execution_count": null,
   "metadata": {},
   "outputs": [],
   "source": []
  }
 ],
 "metadata": {
  "kernelspec": {
   "display_name": "Python 3",
   "language": "python",
   "name": "python3"
  },
  "language_info": {
   "codemirror_mode": {
    "name": "ipython",
    "version": 3
   },
   "file_extension": ".py",
   "mimetype": "text/x-python",
   "name": "python",
   "nbconvert_exporter": "python",
   "pygments_lexer": "ipython3",
   "version": "3.9.2"
  }
 },
 "nbformat": 4,
 "nbformat_minor": 4
}

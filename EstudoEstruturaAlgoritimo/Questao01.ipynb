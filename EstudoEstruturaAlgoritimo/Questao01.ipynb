{
 "cells": [
  {
   "cell_type": "markdown",
   "metadata": {},
   "source": [
    "### Questão 1) Calcule o Maximo."
   ]
  },
  {
   "cell_type": "code",
   "execution_count": 2,
   "metadata": {},
   "outputs": [
    {
     "name": "stdout",
     "output_type": "stream",
     "text": [
      "1\n",
      "100\n",
      "Estudo experimental sobre o tempo de execusão da função max\n",
      "Testanto para entrada de tamanho 2\n",
      "*\n"
     ]
    }
   ],
   "source": [
    "from math import inf\n",
    "from time import time\n",
    "\n",
    "def meu_max(iteravel):\n",
    "    numero_maximo = -inf\n",
    "    for numero in iteravel:\n",
    "        if numero > numero_maximo:\n",
    "            numero_maximo = numero\n",
    "    return numero_maximo\n",
    "\n",
    "if __name__ == '__main__' :\n",
    "    print(meu_max([1]))\n",
    "    print(meu_max([1, 100]))\n",
    "    \n",
    "    print('Estudo experimental sobre o tempo de execusão da função max')\n",
    "    \n",
    "    print('Testanto para entrada de tamanho 2')\n",
    "    inicio = time()\n",
    "    meu_max([1, 100])\n",
    "    final = time()\n",
    "    tempo_de_execusão_em_segundos = int(final - inicio)\n",
    "    print('*' * (tempo_de_execusão_em_segundos +1) )\n"
   ]
  },
  {
   "cell_type": "code",
   "execution_count": 1,
   "metadata": {},
   "outputs": [
    {
     "name": "stdout",
     "output_type": "stream",
     "text": [
      "1\n",
      "100\n",
      "Estudo experimental sobre o tempo de execusão da função max\n",
      "* 0.0\n",
      "* 0.14091825485229492\n",
      "* 0.33580970764160156\n",
      "* 0.4767296314239502\n",
      "* 0.6935925483703613\n",
      "* 0.6406331062316895\n",
      "* 0.8675029277801514\n",
      "** 1.0404059886932373\n",
      "** 1.567103385925293\n",
      "** 1.7030243873596191\n",
      "** 1.8839235305786133\n",
      "*** 2.228724718093872\n",
      "** 1.6930291652679443\n",
      "** 1.5890913009643555\n",
      "** 1.6400606632232666\n",
      "** 1.7569973468780518\n",
      "** 1.7529988288879395\n",
      "** 1.9688940048217773\n",
      "*** 2.307659387588501\n",
      "*** 2.563533306121826\n",
      "*** 2.9802956581115723\n"
     ]
    }
   ],
   "source": [
    "from math import inf\n",
    "from time import time\n",
    "\n",
    "def meu_max(iteravel):\n",
    "    numero_maximo = -inf\n",
    "    for numero in iteravel:\n",
    "        if numero > numero_maximo:\n",
    "            numero_maximo = numero\n",
    "    return numero_maximo\n",
    "\n",
    "if __name__ == '__main__' :\n",
    "    print(meu_max([1]))\n",
    "    print(meu_max([1, 100]))\n",
    "    \n",
    "    print('Estudo experimental sobre o tempo de execusão da função max')\n",
    "    valor_inicio = 1000000\n",
    "    for n in range(0, valor_inicio * 20 + 1, valor_inicio):\n",
    "        inicio = time()\n",
    "        meu_max(range(n))\n",
    "        final = time()\n",
    "        tempo_de_execusão_em_segundos = final - inicio\n",
    "        print('*' * int(tempo_de_execusão_em_segundos +1), tempo_de_execusão_em_segundos )\n",
    " \n",
    "# Análise do Algoritimo\n",
    "# Tempo de execução, Algoritimo O(n)\n",
    "# Em Memoria , Algoritimo O(1)\n"
   ]
  },
  {
   "cell_type": "markdown",
   "metadata": {},
   "source": [
    "#### Estudo Experimentais\n",
    "    - Implementar Algoritimos de max\n",
    "    - Medir o tempo para vários tamanhos\n",
    "    - modulo time do Python\n",
    "    - Análise Gráfica\n",
    "    \n",
    "#### Problemas\n",
    "    - Processos Disputando CPU\n",
    "    - Dificuldade de comparar dois algoritimos\n",
    "    - Limitação de entradas no programa\n",
    "    - Necessidade de implementar o algoritimo para analizar \n",
    "    \n",
    "#### Contagem de Operação Primitiva\n",
    "    - Analisar Operações em Alto Nível\n",
    "    - Contar operações:\n",
    "        Atribuições\n",
    "        Referencia a objetos\n",
    "        Operações Matemáticas\n",
    "        Comparações\n",
    "        Acesso a elemento de lista\n",
    "        Execução de funções\n",
    "        \n",
    "#### Tamanho da Entrada\n",
    "    - Como influencia na execução?\n",
    "    - Função f(n)\n",
    "    - Casos: Pior, Médio, Melhor\n",
    "    - Analise de Tempo e Memória \n",
    "    \n",
    "#### Funções Importante\n",
    "    - constante     ; f(x) = c\n",
    "    - logaritimicas ; f(x) = log(x)  \n",
    "    - linear        ; f(x) = x\n",
    "    - n-log(n)      ; f(x) = xlog(x)\n",
    "    - quadratico    ; f(x) = x^2\n",
    "    - cubico        ; f(x) = x^3\n",
    "    - exponencial   ; f(x) = e^x"
   ]
  },
  {
   "cell_type": "code",
   "execution_count": null,
   "metadata": {},
   "outputs": [],
   "source": []
  }
 ],
 "metadata": {
  "kernelspec": {
   "display_name": "Python 3",
   "language": "python",
   "name": "python3"
  },
  "language_info": {
   "codemirror_mode": {
    "name": "ipython",
    "version": 3
   },
   "file_extension": ".py",
   "mimetype": "text/x-python",
   "name": "python",
   "nbconvert_exporter": "python",
   "pygments_lexer": "ipython3",
   "version": "3.8.5"
  }
 },
 "nbformat": 4,
 "nbformat_minor": 4
}
